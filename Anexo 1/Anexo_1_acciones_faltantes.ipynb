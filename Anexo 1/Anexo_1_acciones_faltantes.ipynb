{
 "cells": [
  {
   "cell_type": "code",
   "execution_count": 1,
   "metadata": {},
   "outputs": [],
   "source": [
    "import os"
   ]
  },
  {
   "cell_type": "code",
   "execution_count": 2,
   "metadata": {},
   "outputs": [],
   "source": [
    "dirr_income = 'C:/Users/admin/Desktop/Correcciones/Income'\n",
    "dirr_balance = 'C:/Users/admin/Desktop/Correcciones/Balance'\n",
    "dirr_cashflow = 'C:/Users/admin/Desktop/Correcciones/Cashflow'"
   ]
  },
  {
   "cell_type": "code",
   "execution_count": 3,
   "metadata": {},
   "outputs": [],
   "source": [
    "acciones_income = [nombre for nombre in os.listdir(dirr_income) if os.path.isfile(os.path.join(dirr_income, nombre))]\n",
    "acciones_balance = [nombre for nombre in os.listdir(dirr_balance) if os.path.isfile(os.path.join(dirr_balance, nombre))]\n",
    "acciones_cashflow = [nombre for nombre in os.listdir(dirr_cashflow) if os.path.isfile(os.path.join(dirr_cashflow, nombre))]"
   ]
  },
  {
   "cell_type": "code",
   "execution_count": 4,
   "metadata": {},
   "outputs": [],
   "source": [
    "for accion in acciones_income:\n",
    "    if accion.endswith(\".ipynb\"):\n",
    "        acciones_income.remove(accion)\n",
    "\n",
    "for accion in acciones_balance:\n",
    "    if accion.endswith(\".ipynb\"):\n",
    "        acciones_balance.remove(accion)\n",
    "\n",
    "for accion in acciones_cashflow:\n",
    "    if accion.endswith(\".ipynb\"):\n",
    "        acciones_cashflow.remove(accion)"
   ]
  },
  {
   "cell_type": "code",
   "execution_count": 5,
   "metadata": {},
   "outputs": [],
   "source": [
    "acciones_income = [accion.split(\"-\")[0] for accion in acciones_income]\n",
    "acciones_balance = [accion.split(\"-\")[0] for accion in acciones_balance]\n",
    "acciones_cashflow = [accion.split(\"-\")[0] for accion in acciones_cashflow]"
   ]
  },
  {
   "cell_type": "code",
   "execution_count": 6,
   "metadata": {},
   "outputs": [],
   "source": [
    "def lower_name(x):\n",
    "    return x.lower()"
   ]
  },
  {
   "cell_type": "code",
   "execution_count": 7,
   "metadata": {},
   "outputs": [],
   "source": [
    "acciones_income = list(map(lower_name, acciones_income))\n",
    "acciones_balance = list(map(lower_name, acciones_balance))\n",
    "acciones_cashflow = list(map(lower_name, acciones_cashflow))"
   ]
  },
  {
   "cell_type": "code",
   "execution_count": 8,
   "metadata": {},
   "outputs": [
    {
     "name": "stdout",
     "output_type": "stream",
     "text": [
      "451\n",
      "451\n",
      "451\n"
     ]
    }
   ],
   "source": [
    "print(len(acciones_income))\n",
    "print(len(acciones_balance))\n",
    "print(len(acciones_cashflow))"
   ]
  },
  {
   "cell_type": "code",
   "execution_count": 9,
   "metadata": {},
   "outputs": [
    {
     "name": "stdout",
     "output_type": "stream",
     "text": [
      "['a', 'aal', 'aap', 'aapl', 'abbv']\n",
      "['a', 'aal', 'aap', 'aapl', 'abbv']\n",
      "['a', 'aal', 'aap', 'aapl', 'abbv']\n"
     ]
    }
   ],
   "source": [
    "print(acciones_income[:5])\n",
    "print(acciones_balance[:5])\n",
    "print(acciones_cashflow[:5])"
   ]
  },
  {
   "cell_type": "code",
   "execution_count": 15,
   "metadata": {},
   "outputs": [
    {
     "name": "stdout",
     "output_type": "stream",
     "text": [
      "Acciones diferentes en income, balances y cashflow: 0\n"
     ]
    }
   ],
   "source": [
    "diferentes = []\n",
    "\n",
    "for i in range(len(acciones_balance)):\n",
    "    if acciones_income[i] == acciones_balance[i] == acciones_cashflow[i]:\n",
    "        pass\n",
    "    else:\n",
    "        diferentes.append(i)\n",
    "\n",
    "print(f\"Acciones diferentes en income, balances y cashflow: {len(diferentes)}\")"
   ]
  }
 ],
 "metadata": {
  "kernelspec": {
   "display_name": "Python 3",
   "language": "python",
   "name": "python3"
  },
  "language_info": {
   "codemirror_mode": {
    "name": "ipython",
    "version": 3
   },
   "file_extension": ".py",
   "mimetype": "text/x-python",
   "name": "python",
   "nbconvert_exporter": "python",
   "pygments_lexer": "ipython3",
   "version": "3.11.4"
  },
  "orig_nbformat": 4
 },
 "nbformat": 4,
 "nbformat_minor": 2
}
